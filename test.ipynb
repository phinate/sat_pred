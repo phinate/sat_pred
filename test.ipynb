{
 "cells": [
  {
   "cell_type": "code",
   "execution_count": 1,
   "metadata": {},
   "outputs": [],
   "source": [
    "from sat_pred.models.simvp_model import SimVP, SimVPTemporal\n",
    "import torch\n",
    "\n",
    "# model = SimVP(\n",
    "#     num_channels = 11,\n",
    "#     history_len = 12,\n",
    "#     forecast_len = 12,\n",
    "# )\n",
    "\n",
    "# B, C, T, H, W = size = (2, 11, 12, 372, 614)\n",
    "# dummy_data = torch.ones(size)\n",
    "\n",
    "# model(dummy_data)"
   ]
  },
  {
   "cell_type": "code",
   "execution_count": 2,
   "metadata": {},
   "outputs": [
    {
     "name": "stderr",
     "output_type": "stream",
     "text": [
      "/Users/phinate/code/sat_pred/sat_pred/load_model_from_checkpoint.py:36: FutureWarning: You are using `torch.load` with `weights_only=False` (the current default value), which uses the default pickle module implicitly. It is possible to construct malicious pickle data which will execute arbitrary code during unpickling (See https://github.com/pytorch/pytorch/blob/main/SECURITY.md#untrusted-models for more details). In a future release, the default value for `weights_only` will be flipped to `True`. This limits the functions that could be executed during unpickling. Arbitrary objects will no longer be allowed to be loaded via this mode unless they are explicitly allowlisted by the user via `torch.serialization.add_safe_globals`. We recommend you start setting `weights_only=True` for any use case where you don't have full control of the loaded file. Please open an issue on GitHub for any issues related to this experimental feature.\n",
      "  checkpoint = torch.load(f\"{checkpoint_dir_path}/last.ckpt\", map_location=\"cpu\")\n"
     ]
    }
   ],
   "source": [
    "from sat_pred.load_model_from_checkpoint import get_model_from_checkpoints\n",
    "\n",
    "pretrained_model, model_config, data_config = get_model_from_checkpoints(\"/Users/phinate/code/sat_pred/checkpoint\", val_best=False)"
   ]
  },
  {
   "cell_type": "code",
   "execution_count": 3,
   "metadata": {},
   "outputs": [
    {
     "ename": "TypeError",
     "evalue": "super(type, obj): obj must be an instance or subtype of type",
     "output_type": "error",
     "traceback": [
      "\u001b[0;31m---------------------------------------------------------------------------\u001b[0m",
      "\u001b[0;31mTypeError\u001b[0m                                 Traceback (most recent call last)",
      "Cell \u001b[0;32mIn[3], line 4\u001b[0m\n\u001b[1;32m      1\u001b[0m module_config \u001b[38;5;241m=\u001b[39m model_config[\u001b[38;5;124m\"\u001b[39m\u001b[38;5;124mmodel\u001b[39m\u001b[38;5;124m\"\u001b[39m]\n\u001b[1;32m      2\u001b[0m \u001b[38;5;28;01mdel\u001b[39;00m module_config[\u001b[38;5;124m'\u001b[39m\u001b[38;5;124m_target_\u001b[39m\u001b[38;5;124m'\u001b[39m]\n\u001b[0;32m----> 4\u001b[0m time_model \u001b[38;5;241m=\u001b[39m \u001b[43mSimVPTemporal\u001b[49m\u001b[43m(\u001b[49m\u001b[38;5;241;43m*\u001b[39;49m\u001b[38;5;241;43m*\u001b[39;49m\u001b[43mmodule_config\u001b[49m\u001b[43m)\u001b[49m\n\u001b[1;32m      6\u001b[0m \u001b[38;5;28;01mfor\u001b[39;00m attr \u001b[38;5;129;01min\u001b[39;00m [\u001b[38;5;124m'\u001b[39m\u001b[38;5;124menc\u001b[39m\u001b[38;5;124m'\u001b[39m, \u001b[38;5;124m'\u001b[39m\u001b[38;5;124mdec\u001b[39m\u001b[38;5;124m'\u001b[39m]:\n\u001b[1;32m      7\u001b[0m     \u001b[38;5;28msetattr\u001b[39m(time_model, attr, \u001b[38;5;28mgetattr\u001b[39m(pretrained_model, attr))\n",
      "File \u001b[0;32m~/code/sat_pred/sat_pred/models/simvp_model.py:357\u001b[0m, in \u001b[0;36mSimVPTemporal.__init__\u001b[0;34m(self, num_channels, history_len, forecast_len, spatial_size, hid_S, hid_T, N_S, N_T, incep_ker, groups)\u001b[0m\n\u001b[1;32m    344\u001b[0m \u001b[38;5;28;01mdef\u001b[39;00m\u001b[38;5;250m \u001b[39m\u001b[38;5;21m__init__\u001b[39m(\n\u001b[1;32m    345\u001b[0m     \u001b[38;5;28mself\u001b[39m, \n\u001b[1;32m    346\u001b[0m     num_channels, \n\u001b[0;32m   (...)\u001b[0m\n\u001b[1;32m    355\u001b[0m     groups\u001b[38;5;241m=\u001b[39m\u001b[38;5;241m8\u001b[39m,\n\u001b[1;32m    356\u001b[0m ):\n\u001b[0;32m--> 357\u001b[0m     \u001b[38;5;28;43msuper\u001b[39;49m\u001b[43m(\u001b[49m\u001b[43mSimVP\u001b[49m\u001b[43m,\u001b[49m\u001b[43m \u001b[49m\u001b[38;5;28;43mself\u001b[39;49m\u001b[43m)\u001b[49m\u001b[38;5;241;43m.\u001b[39;49m\u001b[38;5;21;43m__init__\u001b[39;49m()                \n\u001b[1;32m    358\u001b[0m     \u001b[38;5;28mself\u001b[39m\u001b[38;5;241m.\u001b[39menc \u001b[38;5;241m=\u001b[39m Encoder(num_channels, hid_S, N_S)\n\u001b[1;32m    359\u001b[0m     \u001b[38;5;28mself\u001b[39m\u001b[38;5;241m.\u001b[39mhid \u001b[38;5;241m=\u001b[39m Mid_Xnet_Temporal(history_len\u001b[38;5;241m*\u001b[39mhid_S, hid_T, N_T, incep_ker, groups)\n",
      "\u001b[0;31mTypeError\u001b[0m: super(type, obj): obj must be an instance or subtype of type"
     ]
    }
   ],
   "source": [
    "module_config = model_config[\"model\"]\n",
    "del module_config['_target_']\n",
    "\n",
    "time_model = SimVPTemporal(**module_config)\n",
    "\n",
    "for attr in ['enc', 'dec']:\n",
    "    setattr(time_model, attr, getattr(pretrained_model, attr))"
   ]
  },
  {
   "cell_type": "code",
   "execution_count": null,
   "metadata": {},
   "outputs": [],
   "source": []
  }
 ],
 "metadata": {
  "kernelspec": {
   "display_name": ".venv",
   "language": "python",
   "name": "python3"
  },
  "language_info": {
   "codemirror_mode": {
    "name": "ipython",
    "version": 3
   },
   "file_extension": ".py",
   "mimetype": "text/x-python",
   "name": "python",
   "nbconvert_exporter": "python",
   "pygments_lexer": "ipython3",
   "version": "3.12.6"
  }
 },
 "nbformat": 4,
 "nbformat_minor": 2
}
